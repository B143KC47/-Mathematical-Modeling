{
 "cells": [
  {
   "cell_type": "markdown",
   "metadata": {},
   "source": [
    "# Analytic Hierarchy Process 层次分析法 (AHP)\n",
    "步骤\n",
    "- 解决评价问题\n",
    "- 画出层级结构图\n",
    "- 构造准则 指标重要矩阵\n",
    "- 依照评价指标对各个方案打分\n",
    "- 求出权重 填表 求最后得分\n",
    "- 层次总排序一致性检验"
   ]
  },
  {
   "cell_type": "markdown",
   "metadata": {},
   "source": [
    "目标: 选择大学工程系\n",
    "\n",
    "准则: \n",
    "- 成本\n",
    "- 学术排名\n",
    "- 校外课程\n",
    "\n",
    "可选方案:\n",
    "- A大\n",
    "- B大\n",
    "- C大\n",
    "\n",
    "正互反矩阵:\n",
    "$a_{ij} > 0, a_{ij}\\times a_{ji} = 1$ 则该矩阵为正互反矩阵\n",
    "$\\frac{C_i}{C_j} \\times \\frac{C_j}{C_i} = 1$\n",
    "\n",
    "从矩阵上看 左上对角到右下对角为1 且 右上区域 和 左下区域互为倒数"
   ]
  },
  {
   "cell_type": "code",
   "execution_count": 15,
   "metadata": {},
   "outputs": [],
   "source": [
    "import numpy as np\n",
    "from scipy.linalg import eig\n",
    "\n",
    "# 正互反矩阵 指标重要性\n",
    "A = np.array([\n",
    "    [1, 5, 3],  # 成本\n",
    "    [1/5, 1, 3],  # 学术排名\n",
    "    [1/3, 1/3, 1]  # 校外课程\n",
    "])\n",
    "\n",
    "# 定义三个准则的正互反矩阵\n",
    "cost_matrix = np.array([\n",
    "    [1, 1/2, 1/3],  # A大\n",
    "    [2, 1, 1/2],    # B大\n",
    "    [3, 2, 1]       # C大\n",
    "])\n",
    "\n",
    "academic_matrix = np.array([\n",
    "    [1, 3, 5],  # A大\n",
    "    [1/3, 1, 2],  # B大\n",
    "    [1/5, 1/2, 1]  # C大\n",
    "])\n",
    "\n",
    "extracurricular_matrix = np.array([\n",
    "    [1, 1/4, 1/7],  # A大\n",
    "    [4, 1, 1/3],    # B大\n",
    "    [7, 3, 1]       # C大\n",
    "])\n"
   ]
  },
  {
   "cell_type": "markdown",
   "metadata": {},
   "source": [
    "特征根（也称为特征值）\n",
    "- 线性代数概念\n",
    "- 与矩阵相关\n",
    "\n",
    "矩阵 $A$ 与向量 $v$\n",
    "满足 $A \\cdot v = \\lambda \\cdot v \\\\$\n",
    " $则 \\lambda$ 为矩阵 \\(A\\) 的一特征值（特征根）\n",
    " ，而则为 \\(v\\) 对应的特征向量。\n",
    "\n",
    "特征根为一标量，\n",
    "它表示矩阵在某个方向上的伸缩比例。\n",
    "特征向量为此方向上的向量。\n",
    "\n",
    "举例\n",
    "有一 2x2 矩阵：\n",
    "$ A = \\begin{pmatrix} 4 & 1 \\\\ 2 & 3 \\end{pmatrix} $\n",
    "\n",
    "想找其特征值 $\\lambda$，则需解此特征方程：\n",
    "$ \\text{det}(A - \\lambda I) = 0 $\n",
    "\n",
    "其中，$I$ 为单位矩阵，$\\text{det}$ 表示行列式。\n",
    "\n",
    "对上述矩阵 \\(A\\)，特征方程为：\n",
    "$\\begin{vmatrix} 4 - \\lambda & 1 \\\\ 2 & 3 - \\lambda \\end{vmatrix} = 0 $\n",
    "\n",
    "解这个方程可得特征值 $\\lambda$。\n",
    "\n"
   ]
  },
  {
   "cell_type": "code",
   "execution_count": 16,
   "metadata": {},
   "outputs": [
    {
     "name": "stdout",
     "output_type": "stream",
     "text": [
      "特征值: [ 3.29477949+0.j         -0.14738975+0.97442788j -0.14738975-0.97442788j]\n",
      "特征向量: [[-0.93050025+0.j          0.93050025+0.j          0.93050025-0.j        ]\n",
      " [-0.31822661+0.j         -0.15911331+0.27559233j -0.15911331-0.27559233j]\n",
      " [-0.18138662+0.j         -0.09069331-0.15708542j -0.09069331+0.15708542j]]\n"
     ]
    }
   ],
   "source": [
    "# 计算特征值和特征向量\n",
    "def calculate_eig(matrix):\n",
    "    eigvals, eigvecs = eig(matrix)\n",
    "    return eigvals, eigvecs\n",
    "\n",
    "\n",
    "\n",
    "\n",
    "eigvals, eigvec = calculate_eig(A)\n",
    "\n",
    "print(\"特征值:\", eigvals)\n",
    "print(\"特征向量:\", eigvec)\n"
   ]
  },
  {
   "cell_type": "markdown",
   "metadata": {},
   "source": [
    "需确定各方案与准则层所评出的矩阵为一致性矩阵\n",
    "（也就是评分是不是一致 会不会前后矛盾）\n",
    "\n",
    "一致性判断方法：\n",
    "- 正互反矩阵A的秩为1,A的唯一非零特征根为n;\n",
    "- 正互反矩阵A的任一列向量都对特征根n的特征向量;\n",
    "- 当正互反矩阵A不为一致矩阵，其最大特征根 $\\lambda_{max} > n. 相差越大越不一致$"
   ]
  },
  {
   "cell_type": "markdown",
   "metadata": {},
   "source": [
    "# 一致性检验方法 \n",
    "定义一致性指标CI(Consistency Index)   \n",
    "\n",
    "\n",
    "$CI=\\frac{\\lambda_{max}-n}{n-1} , CI = \\begin{cases}\n",
    "0， \\text{有完全一致性}\\\\\n",
    "\\to 0， \\text{满意一致性}\\\\\n",
    "\\to \\infty， \\text{越大越差}\\\\\n",
    "\\end{cases}$  \n",
    "\n",
    "为衡量CI大小 引入随机一致性RI (Random index)  先构造m个判断矩阵\n",
    "$ \\\\RI = \\frac{CI_1+CI_2+...+CI_m}{m} = \\frac{\\frac{\\lambda_1+\\lambda_2+...+\\lambda_m}{m}-n}{n-1}  $\n",
    "\n",
    "定义一致性比例 $CR=\\frac{CI}{RI}$ \n",
    "若CR<0.1 则一致性可接受 Else ≥ 修正  \n",
    "\n",
    "如何修正?  \n",
    "强行往一致性靠，调整成倍数关系即可\n"
   ]
  },
  {
   "cell_type": "code",
   "execution_count": 19,
   "metadata": {},
   "outputs": [
    {
     "name": "stdout",
     "output_type": "stream",
     "text": [
      "初始一致性比例CR: 0.2541202537235106\n",
      "调整后的一致性比例CR: 7.656710514656253e-16\n",
      "一致性通过\n",
      "修正后的矩阵:\n",
      "[[1.         0.34199519 0.19493452]\n",
      " [2.92401774 1.         0.56999198]\n",
      " [5.12992784 1.75441064 1.        ]]\n"
     ]
    }
   ],
   "source": [
    "\n",
    "# 对准则指标重要性进行一致性验证\n",
    "\n",
    "def calculate_consistency_ratio(matrix):\n",
    "    eigvals, eigvecs = eig(matrix)\n",
    "    lambda_max = np.max(eigvals).real # 最大特征值\n",
    "    n = matrix.shape[0] # 矩阵的阶数\n",
    "    CI = (lambda_max - n) / (n - 1) # 一致性指标\n",
    "    RI_dict = {1: 0.00, 2: 0.00, 3: 0.58, 4: 0.90, 5: 1.12, 6: 1.24, 7: 1.32, 8: 1.41, 9: 1.45, 10: 1.49}\n",
    "    RI = RI_dict.get(n, 1.49) # 随机一致性指标\n",
    "    CR = CI / RI # 一致性比例\n",
    "    return CR\n",
    "\n",
    "def adjust_to_consistency(matrix):\n",
    "    n = matrix.shape[0] # 矩阵的阶数\n",
    "    geometric_means = np.zeros(n) # 几何平均值\n",
    "    \n",
    "    # 计算每一列的几何平均值\n",
    "    for i in range(n): \n",
    "        geometric_means[i] = np.prod(matrix[:, i]) ** (1/n) \n",
    "    \n",
    "    # 归一化几何平均值\n",
    "    normalized_geometric_means = geometric_means / np.sum(geometric_means)\n",
    "    \n",
    "    # 用归一化后的几何平均值构造新的矩阵\n",
    "    consistent_matrix = np.zeros((n, n))\n",
    "    for i in range(n):\n",
    "        for j in range(n):\n",
    "            consistent_matrix[i, j] = normalized_geometric_means[i] / normalized_geometric_means[j]\n",
    "    \n",
    "    return consistent_matrix\n",
    "\n",
    "R = calculate_consistency_ratio(A)\n",
    "print(f\"初始一致性比例CR: {CR}\")\n",
    "\n",
    "# 如果一致性未通过，进行修正\n",
    "if CR >= 0.1:\n",
    "    A = adjust_to_consistency(A)\n",
    "    CR = calculate_consistency_ratio(A)\n",
    "    print(f\"调整后的一致性比例CR: {CR}\")\n",
    "\n",
    "print(\"一致性通过\")\n",
    "print(\"修正后的矩阵:\")\n",
    "print(A)"
   ]
  },
  {
   "cell_type": "markdown",
   "metadata": {},
   "source": [
    "# 一致性矩阵权重计算\n",
    "\n",
    "归一化值为一致性矩阵权重\n",
    "\n",
    "什么是归一化?  \n",
    "归一化为令矩阵元素进行标准化处理，满足特定条件，将其转换成一个标准范围内（纯粹方便处理）\n",
    "\n",
    "举例理解:  \n",
    "LLM 大语言模型简单来说一般是预测下一个字的概率，在最后输出时需使用softmax(归一化函数)将output局限在0到1之间\n",
    "\n",
    "AHP归一化怎么做?  \n",
    "将特征向量的各个元素进行归一化处理，使其和为1。\n",
    "归一化的方法是将每个元素除以特征向量的所有元素之和。"
   ]
  },
  {
   "cell_type": "code",
   "execution_count": 20,
   "metadata": {},
   "outputs": [
    {
     "name": "stdout",
     "output_type": "stream",
     "text": [
      "准则的权重:\n",
      "[0.11044908 0.32295508 0.56659583]\n"
     ]
    }
   ],
   "source": [
    "# 归一化特征向量作为权重\n",
    "\n",
    "eigvals, eigvecs = eig(A)\n",
    "\n",
    "max_eigval_index = np.argmax(eigvals) # 最大特征值的索引\n",
    "max_eigvec = eigvecs[:, max_eigval_index].real   \n",
    "\n",
    "# 归一化特征向量，得到权重\n",
    "weights = max_eigvec / np.sum(max_eigvec)\n",
    "\n",
    "print(\"准则的权重:\")\n",
    "print(weights)"
   ]
  },
  {
   "cell_type": "markdown",
   "metadata": {},
   "source": [
    "# 非一致性矩阵 -算术平均法求权重\n",
    "\n",
    "\n",
    "举例：\n",
    "\n",
    "$\n",
    "A = \\begin{pmatrix}\n",
    "1 & 2 & 4 \\\\\n",
    "0.5 & 1 & 3 \\\\\n",
    "0.25 & \\frac{1}{3} & 1\n",
    "\\end{pmatrix}\n",
    "$\n",
    "\n",
    "举例算第一列(y轴) 详细算法为:\n",
    "$\\frac{格的数值}{整列总数}$  \n",
    "$\\frac{1}{1+0.5+0.25}$\n",
    "\n",
    "论文写法:\n",
    "$对于判断矩阵A = \n",
    "A = \\begin{pmatrix}\n",
    "a_{11} & a_{12} & \\cdots & a_{1n} \\\\\n",
    "a_{21} & a_{22} & \\cdots & a_{2n} \\\\\n",
    "\\vdots & \\vdots & \\ddots & \\vdots \\\\\n",
    "a_{n1} & a_{n2} & \\cdots & a_{nn}\n",
    "\\end{pmatrix}\n",
    "，先将其归一化，再将归一化的矩阵按列相加，并将每个元素除以n得到权重向量，即\\omega_i = \\frac{1}{n}\\sum^n_{j=1}\\frac{a_{ij}}{\\sum^n_{k=1}a_{kj}}(i =1,2,...,n)$"
   ]
  },
  {
   "cell_type": "code",
   "execution_count": null,
   "metadata": {
    "vscode": {
     "languageId": "ini"
    }
   },
   "outputs": [],
   "source": [
    "def arithmetic_mean_weights(matrix):\n",
    "\n",
    "    column_sums = np.sum(matrix, axis=0) # 每一列的和\n",
    "    normalized_matrix = matrix / column_sums # 归一化矩阵\n",
    "    \n",
    "\n",
    "    weights = np.mean(normalized_matrix, axis=1) # 求每一行的均值\n",
    "    \n",
    "    return weights\n",
    "\n",
    "\n",
    "weights_arithmetic_mean = arithmetic_mean_weights(A) # 求权重\n",
    "print(\"非一致性矩阵的算术平均法求权重:\")\n",
    "print(weights_arithmetic_mean)"
   ]
  },
  {
   "cell_type": "markdown",
   "metadata": {},
   "source": [
    "# 特征值求权重\n",
    "\n",
    "$矩阵A \\to^{计算特征值与特征向量}\\lambda_1 ... \\to^{一致性检验} CI <0.1, 通过后\\to^{最大特征值对应的特征向量} \\alpha = \n",
    "\\begin{pmatrix}\n",
    "-0.93050025 \\\\\n",
    "-0.31822661 \\\\\n",
    "-0.18138662\n",
    "\\end{pmatrix}    \\to^{归一化} \\omega =    \\begin{pmatrix}\n",
    "w_1 \\\\\n",
    "w_2 \\\\\n",
    "w_3\n",
    "\\end{pmatrix}           $\n",
    "\n",
    "两种求法的区别  \n",
    "特征值求权重 （常用方便）  \n",
    "算术平均法 （二者共用 取平均值）  "
   ]
  },
  {
   "cell_type": "code",
   "execution_count": null,
   "metadata": {
    "vscode": {
     "languageId": "ini"
    }
   },
   "outputs": [],
   "source": [
    "# 计算特征值和特征向量\n",
    "eigvals, eigvecs = eig(A)\n",
    "\n",
    "# 找到最大特征值对应的特征向量\n",
    "max_eigval_index = np.argmax(eigvals)\n",
    "max_eigvec = eigvecs[:, max_eigval_index].real\n",
    "\n",
    "# 归一化特征向量，得到权重\n",
    "weights = max_eigvec / np.sum(max_eigvec)\n",
    "\n",
    "print(\"特征值求权重:\")\n",
    "print(weights)"
   ]
  }
 ],
 "metadata": {
  "kernelspec": {
   "display_name": "Python 3",
   "language": "python",
   "name": "python3"
  },
  "language_info": {
   "codemirror_mode": {
    "name": "ipython",
    "version": 3
   },
   "file_extension": ".py",
   "mimetype": "text/x-python",
   "name": "python",
   "nbconvert_exporter": "python",
   "pygments_lexer": "ipython3",
   "version": "3.10.7"
  }
 },
 "nbformat": 4,
 "nbformat_minor": 2
}
